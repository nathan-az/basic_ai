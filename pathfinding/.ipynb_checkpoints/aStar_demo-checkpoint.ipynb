{
 "cells": [
  {
   "cell_type": "markdown",
   "metadata": {},
   "source": [
    "# Python A*\n",
    "See aStar.py in the same directory for the details of the implementation"
   ]
  },
  {
   "cell_type": "code",
   "execution_count": 19,
   "metadata": {},
   "outputs": [],
   "source": [
    "import aStar"
   ]
  },
  {
   "cell_type": "markdown",
   "metadata": {},
   "source": [
    "## Initial parameter setup\n",
    "\n",
    "### Map size and traversability\n",
    "After importing the aStar module, we create our obstacle map. This is generated randomly. We set the umber of rows and columns, and the probability that a node is traversable. Returns True for obstacles and False otherwise."
   ]
  },
  {
   "cell_type": "code",
   "execution_count": 20,
   "metadata": {},
   "outputs": [],
   "source": [
    "rows = 15\n",
    "cols = 15\n",
    "obstacle_map = aStar.generate_2d_map(rows, cols, 0.6)"
   ]
  },
  {
   "cell_type": "markdown",
   "metadata": {},
   "source": [
    "### Problem setup: start and end location\n",
    "The obstacle_map matrix designates the location of obstacles. Now, we set up our problem. The problem only needs to take the above map, then start and end-node locations in (x,y) format. "
   ]
  },
  {
   "cell_type": "code",
   "execution_count": 21,
   "metadata": {},
   "outputs": [],
   "source": [
    "problem = aStar.ProblemSetup(obstacle_map, (0,rows//2), (cols-1,rows//2), False)"
   ]
  },
  {
   "cell_type": "markdown",
   "metadata": {},
   "source": [
    "With the problem set up, A\\* is ready to run. In running A\\*, each node's parents is set to the node along its shortest path from the start. Thus we can derive the shortest path by following the parent path from the end node to start. However, we return more information so that we can display the entire path explored by the algorithm."
   ]
  },
  {
   "cell_type": "code",
   "execution_count": 22,
   "metadata": {},
   "outputs": [],
   "source": [
    "start_node, end_node, visited, to_visit = aStar.AStar(problem, aStar.calculate_manhattan_distance)"
   ]
  },
  {
   "cell_type": "markdown",
   "metadata": {},
   "source": [
    "We now derive the optimal path from the end node as above and print the final output."
   ]
  },
  {
   "cell_type": "markdown",
   "metadata": {},
   "source": [
    "## Visualisation 1: Coloured Grid\n",
    "The below visualisation was added afterward. We start at black and aim towards crimson. Grey cells are obstacles and could not be traversed. The yellow line highlights the optimal path. Light green cells were visited but not fully explored. Light blue cells were fully explored.\n",
    "\n",
    "Note: diagonal paths can be allowed or disallowed. In the case that diagonal paths are allowed, this will even include cases where a node's NSEW neighbours are all obstacles (so long as the diagonal is not an obstacle)"
   ]
  },
  {
   "cell_type": "code",
   "execution_count": 23,
   "metadata": {},
   "outputs": [
    {
     "name": "stdout",
     "output_type": "stream",
     "text": [
      "[14, 14, 13, 12, 11, 11, 11, 10, 9, 8, 7, 7, 6, 5, 5, 5, 5, 4, 3, 2, 2, 1, 0]\n",
      "[7, 6, 6, 6, 6, 7, 8, 8, 8, 8, 8, 9, 9, 9, 8, 7, 6, 6, 6, 6, 7, 7, 7]\n"
     ]
    },
    {
     "data": {
      "image/png": "[encoded data removed]",
      "text/plain": [
       "<matplotlib.figure.Figure at 0x1184cab38>"
      ]
     },
     "metadata": {},
     "output_type": "display_data"
    }
   ],
   "source": [
    "optimal_path = aStar.optimal_path(start_node, end_node)\n",
    "aStar.display_problem(optimal_path, start_node, end_node, visited, to_visit, obstacle_map)"
   ]
  },
  {
   "cell_type": "markdown",
   "metadata": {},
   "source": [
    "## Superseded visualisation\n",
    "Cells below demonstrate the first attempt to visualise the solution to the search. It is ugly, hence the more pleasant visual above."
   ]
  },
  {
   "cell_type": "code",
   "execution_count": 24,
   "metadata": {},
   "outputs": [
    {
     "name": "stdout",
     "output_type": "stream",
     "text": [
      "Pathfinding problem:\n",
      "|      x  x  x        x     x  x  x     x   |\n",
      "|   x              x  x           x  x     x|\n",
      "|x              x                 x         |\n",
      "|x     x           x     x  x              x|\n",
      "|x  x     x  x  x           x        x      |\n",
      "|x  x              x  x  x           x  x  x|\n",
      "|                     x  x     x            |\n",
      "|S        x  x     x  x     x  x     x     E|\n",
      "|x  x     x  x     x                 x  x  x|\n",
      "|      x     x           x        x  x      |\n",
      "|                     x  x  x  x  x     x   |\n",
      "|      x           x     x  x     x     x   |\n",
      "|x        x  x  x     x           x  x      |\n",
      "|x  x  x        x           x  x  x     x   |\n",
      "|x  x  x              x     x  x  x  x      |\n",
      "\n",
      "A* optimal path solution:\n",
      "|      x  x  x        x     x  x  x     x   |\n",
      "|   x              x  x           x  x     x|\n",
      "|x              x                 x         |\n",
      "|x     x           x     x  x              x|\n",
      "|x  x  *  x  x  x           x        x      |\n",
      "|x  x  *  *  *  *  x  x  x        -  x  x  x|\n",
      "|*  *  o  o  o  o  *  x  x     x  o  o  o  o|\n",
      "|S  o  o  x  x  o  x  x  *  x  x  o  x  -  E|\n",
      "|x  x  *  x  x  o  x  o  o  o  o  o  x  x  x|\n",
      "|      x     x  o  o  o  x  -  -  x  x      |\n",
      "|               -  -  x  x  x  x  x     x   |\n",
      "|      x           x     x  x     x     x   |\n",
      "|x        x  x  x     x           x  x      |\n",
      "|x  x  x        x           x  x  x     x   |\n",
      "|x  x  x              x     x  x  x  x      |\n"
     ]
    }
   ],
   "source": [
    "aStar.print_char_display(optimal_path, start_node, end_node, visited, to_visit, obstacle_map)"
   ]
  },
  {
   "cell_type": "markdown",
   "metadata": {},
   "source": [
    "| Key | Type        | Description                                                                                                                                                     |\n",
    "|-----|-------------|-----------------------------------------------------------------------------------------------------------------------------------------------------------------|\n",
    "| -   | Visited     | Node was a neighbour of a visited node but was not fully explored. Likely had a high heuristic and the algorithm found a better solution with no need to return |\n",
    "| *   | Explored    | Node was fully explored. The optimal path to this node was found. However, it was not on the optimal path from start to end                                     |\n",
    "| x   | Obstacle    | Node was an obstacle and could not be traversed                                                                                                                 |\n",
    "| o   | Optimal     | Node was on the optimal path from start to end                                                                                                                  |\n",
    "| S   | Start       | Starting node                                                                                                                                                   |\n",
    "| E   | End         | Ending node                                                                                                                                                     |\n",
    "|     | Not visited | Path was never visited when discovering the optimal path                                                                                                        |"
   ]
  }
 ],
 "metadata": {
  "file_extension": ".py",
  "kernelspec": {
   "display_name": "Python 3",
   "language": "python",
   "name": "python3"
  },
  "language_info": {
   "codemirror_mode": {
    "name": "ipython",
    "version": 3
   },
   "file_extension": ".py",
   "mimetype": "text/x-python",
   "name": "python",
   "nbconvert_exporter": "python",
   "pygments_lexer": "ipython3",
   "version": "3.6.4"
  },
  "mimetype": "text/x-python",
  "name": "python",
  "npconvert_exporter": "python",
  "pygments_lexer": "ipython3",
  "version": 3
 },
 "nbformat": 4,
 "nbformat_minor": 2
}
