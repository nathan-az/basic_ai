{
 "nbformat": 4,
 "nbformat_minor": 2,
 "metadata": {
  "language_info": {
   "name": "python",
   "codemirror_mode": {
    "name": "ipython",
    "version": 3
   },
   "version": "3.6.5-final"
  },
  "orig_nbformat": 2,
  "file_extension": ".py",
  "mimetype": "text/x-python",
  "name": "python",
  "npconvert_exporter": "python",
  "pygments_lexer": "ipython3",
  "version": 3,
  "kernelspec": {
   "name": "python3",
   "display_name": "Python 3"
  }
 },
 "cells": [
  {
   "cell_type": "code",
   "execution_count": 1,
   "metadata": {},
   "outputs": [],
   "source": [
    "import aStar"
   ]
  },
  {
   "cell_type": "markdown",
   "metadata": {},
   "source": [
    "After importing the aStar module, we create our obstacle map. This is generated randomly. We set the number of rows and columns, and the probability that a node is traversable. "
   ]
  },
  {
   "cell_type": "code",
   "execution_count": 2,
   "metadata": {},
   "outputs": [
    {
     "output_type": "stream",
     "name": "stdout",
     "text": "[[False False False  True False False  True  True]\n [False  True False False  True False False False]\n [ True  True False  True  True False  True False]\n [ True  True False False  True False False  True]\n [False False False  True  True False  True False]\n [False False False False  True False False False]\n [False  True False False False False  True False]\n [ True False False False  True False False False]]\n"
    }
   ],
   "source": [
    "obsMap = aStar.gen_2d_map(8, 8, 0.7)\n",
    "print(obsMap)"
   ]
  },
  {
   "cell_type": "markdown",
   "metadata": {},
   "source": [
    "The above matrix designates the location of obstacles. Now, we set up our problem. The problem only needs to take the above map, then start and end-node locations in (x,y) format. "
   ]
  },
  {
   "cell_type": "code",
   "execution_count": 3,
   "metadata": {},
   "outputs": [],
   "source": [
    "problem = aStar.mazeSetup(obsMap, (1,0), (7,7))"
   ]
  },
  {
   "cell_type": "markdown",
   "metadata": {},
   "source": [
    "With the problem set up, A\\* is ready to run. In running A\\*, each node's parents is set to the node along its shortest path from the start. Thus we can derive the shortest path by following the parent path from the end node to start. However, we return more information so that we can display the entire path explored by the algorithm."
   ]
  },
  {
   "cell_type": "code",
   "execution_count": 4,
   "metadata": {},
   "outputs": [],
   "source": [
    "sNode, eNode, visited, toVisit = aStar.AStar(problem, aStar.manhDist)"
   ]
  },
  {
   "cell_type": "markdown",
   "metadata": {},
   "source": [
    "We now derive the optimal path from the end node as above and print the final output."
   ]
  },
  {
   "cell_type": "code",
   "execution_count": 5,
   "metadata": {},
   "outputs": [
    {
     "output_type": "stream",
     "name": "stdout",
     "text": "Pathfinding problem:\n|   S     x        x  x|\n|   x        x         |\n|x  x     x  x     x   |\n|x  x        x        x|\n|         x  x     x   |\n|            x         |\n|   x              x   |\n|x           x        E|\n\nA* optimal path solution:\n|-  S  -  x  -     x  x|\n|-  x  o  *  x         |\n|x  x  o  x  x     x   |\n|x  x  o  *  x        x|\n|   -  o  x  x     x   |\n|   -  -  o  x  -      |\n|   x  -  -  o  -  x  -|\n|x        -  x  o  o  E|\n"
    }
   ],
   "source": [
    "oPath = aStar.optimal_path(sNode, eNode)\n",
    "aStar.print_visual(oPath, sNode, eNode, visited, toVisit, obsMap)"
   ]
  },
  {
   "cell_type": "markdown",
   "metadata": {},
   "source": [
    "| Key | Type        | Description                                                                                                                                                     |\n",
    "|-----|-------------|-----------------------------------------------------------------------------------------------------------------------------------------------------------------|\n",
    "| -   | Visited     | Node was a neighbour of a visited node but was not fully explored. Likely had a high heuristic and the algorithm found a better solution with no need to return |\n",
    "| *   | Explored    | Node was fully explored. The optimal path to this node was found. However, it was not on the optimal path from start to end                                     |\n",
    "| x   | Obstacle    | Node was an obstacle and could not be traversed                                                                                                                 |\n",
    "| o   | Optimal     | Node was on the optimal path from start to end                                                                                                                  |\n",
    "| S   | Start       | Starting node                                                                                                                                                   |\n",
    "| E   | End         | Ending node                                                                                                                                                     |\n",
    "|     | Not visited | Path was never visited when discovering the optimal path                                                                                                        |"
   ]
  }
 ]
}